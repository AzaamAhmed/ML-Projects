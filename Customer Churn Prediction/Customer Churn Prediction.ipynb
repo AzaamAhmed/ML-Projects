{
 "cells": [
  {
   "cell_type": "markdown",
   "id": "895b4d4c",
   "metadata": {},
   "source": [
    "Let's Start"
   ]
  }
 ],
 "metadata": {
  "language_info": {
   "name": "python"
  }
 },
 "nbformat": 4,
 "nbformat_minor": 5
}
